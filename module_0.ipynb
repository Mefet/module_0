{
 "cells": [
  {
   "cell_type": "code",
   "execution_count": 5,
   "metadata": {},
   "outputs": [],
   "source": [
    "def score_game(game_core):\n",
    "    # Запускаем игру 1000 раз, чтобы узнать, как быстро игра угадывает число\n",
    "    \n",
    "    count_ls = []\n",
    "    np.random.seed(1) # фиксируем RANDOM SEED, чтобы ваш эксперимент был воспроизводим!\n",
    "    random_array = np.random.randint(1,101, size=(1000))\n",
    "    \n",
    "    for number in random_array:\n",
    "        count_ls.append(game_core(number))\n",
    "    score = int(np.mean(count_ls))\n",
    "        \n",
    "    return(score)"
   ]
  },
  {
   "cell_type": "code",
   "execution_count": 6,
   "metadata": {},
   "outputs": [],
   "source": [
    "def game_core(number):\n",
    "    # Устанавливаем первым часло 50, потом в зависимости от того, больше оно или меньше нужного \n",
    "    # берем среднее число в нужном диапазоне\n",
    "    count = 1\n",
    "    predict = 50 # предполагаемое число\n",
    "    max_predict = 101 \n",
    "    min_predict = 1\n",
    "    \n",
    "    while number != predict:\n",
    "        count += 1\n",
    "        if number > predict: \n",
    "            min_predict = predict + 1 # Устанавливаем минимальный предел\n",
    "            predict = int((predict+max_predict) / 2) # Берем среднее число в диапазоне\n",
    "        elif number < predict: \n",
    "            max_predict = predict # Устанавливаем максимальный предел\n",
    "            predict = int((predict+min_predict) / 2)\n",
    "            \n",
    "    return(count)"
   ]
  },
  {
   "cell_type": "code",
   "execution_count": 7,
   "metadata": {},
   "outputs": [
    {
     "name": "stdout",
     "output_type": "stream",
     "text": [
      "Среднее колличество попыток за которые алгоритм угадывает число: 5\n"
     ]
    }
   ],
   "source": [
    "import numpy as np\n",
    "print(\"Среднее колличество попыток за которые алгоритм угадывает число:\", score_game(game_core))"
   ]
  },
  {
   "cell_type": "code",
   "execution_count": null,
   "metadata": {},
   "outputs": [],
   "source": []
  }
 ],
 "metadata": {
  "kernelspec": {
   "display_name": "Python 3",
   "language": "python",
   "name": "python3"
  },
  "language_info": {
   "codemirror_mode": {
    "name": "ipython",
    "version": 3
   },
   "file_extension": ".py",
   "mimetype": "text/x-python",
   "name": "python",
   "nbconvert_exporter": "python",
   "pygments_lexer": "ipython3",
   "version": "3.8.3"
  }
 },
 "nbformat": 4,
 "nbformat_minor": 4
}
